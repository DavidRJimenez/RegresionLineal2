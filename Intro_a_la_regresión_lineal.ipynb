{
  "cells": [
    {
      "cell_type": "markdown",
      "metadata": {
        "id": "zLuFpOA2gdck"
      },
      "source": [
        "# Taller de introducción a la regresión lineal\n",
        "\n",
        " La idea de este taller es que repase conceptos vistos sobre la regresión lineal. Explorando la solución de mínimos cuadrados (1),  verificando la solución por medio de la derivada (2) y usándola para encontrar una aproximación a la solución (3)."
      ]
    },
    {
      "cell_type": "code",
      "execution_count": 3,
      "metadata": {
        "id": "fv2NkbyIhohw"
      },
      "outputs": [],
      "source": [
        "import numpy as np\n",
        "import matplotlib.pyplot as plt"
      ]
    },
    {
      "cell_type": "markdown",
      "metadata": {
        "id": "PN3m2r2qg9q2"
      },
      "source": [
        "## 1.) Cree un conjunto de datos\n",
        "\n",
        "cree dos variables linealmente dependientes, a una de ella añádale un factor aleatorio normalmente distribuido y grafiquelas."
      ]
    },
    {
      "cell_type": "code",
      "execution_count": 6,
      "metadata": {
        "id": "FxVRERdxggnE"
      },
      "outputs": [],
      "source": [
        "def create_data(n_samples, std):\n",
        "\n",
        "   X = np.arange(1,n_samples,1)\n",
        "   Y = np.random.rand() * X + np.random.rand()\n",
        "   Y = Y + np.random.normal(0, std, len(X))\n",
        "\n",
        "   return (X,Y)"
      ]
    },
    {
      "cell_type": "code",
      "execution_count": 7,
      "metadata": {
        "colab": {
          "base_uri": "https://localhost:8080/",
          "height": 447
        },
        "id": "nlzNYhR6PuHe",
        "outputId": "609eeb20-eecc-4c05-e225-0f0dc1e18f24"
      },
      "outputs": [
        {
          "data": {
            "text/plain": [
              "[<matplotlib.lines.Line2D at 0x75dd16f14c20>]"
            ]
          },
          "execution_count": 7,
          "metadata": {},
          "output_type": "execute_result"
        },
        {
          "data": {
            "image/png": "[encoded data removed]",
            "text/plain": [
              "<Figure size 640x480 with 1 Axes>"
            ]
          },
          "metadata": {},
          "output_type": "display_data"
        }
      ],
      "source": [
        "x,y = create_data(100,10)\n",
        "plt.plot(x,y,'.')"
      ]
    },
    {
      "cell_type": "markdown",
      "metadata": {
        "id": "KSZH4YeviEgE"
      },
      "source": [
        "## 2.)Solución por minimos cuadrados\n",
        "\n",
        "Encuentre los parámetros que solucionan la regresión lineal empleando el método de mínimos cuadrados. Recuerde:\n",
        "\n",
        "$\\beta = \\left ( X^{T} X \\right )^{-1} \\left (  X^{T} Y \\right )$"
      ]
    },
    {
      "cell_type": "code",
      "execution_count": 16,
      "metadata": {
        "id": "EbCyxnKSfF8k"
      },
      "outputs": [],
      "source": [
        "def get_params(X,Y):\n",
        " Matrix = np.ones((X.shape[0],2), dtype=int)\n",
        " Matrix[:,1] = X\n",
        " x_traspose = Matrix.T\n",
        " x_t_x = np.linalg.inv(x_traspose@Matrix)\n",
        " x_t_y = x_traspose@Y\n",
        " beta = x_t_x@x_t_y\n",
        " return beta"
      ]
    },
    {
      "cell_type": "code",
      "execution_count": 17,
      "metadata": {},
      "outputs": [
        {
          "name": "stdout",
          "output_type": "stream",
          "text": [
            "[0.69357124 0.20943083]\n"
          ]
        }
      ],
      "source": [
        "beta = get_params(x,y)\n",
        "print(beta)\n"
      ]
    },
    {
      "cell_type": "markdown",
      "metadata": {
        "id": "SOLH-lgvjNuW"
      },
      "source": [
        "## 3.)Demuestre que la solución de los parámetros minimiza el MSE\n",
        "\n",
        "Teniendo la solución del modelo, verifique que estos minimizan el error. recuerde:\n",
        "\n",
        "$\\frac{d MSE(\\beta)}{d \\beta} =  X^{T} X \\beta  - X^{T} Y $"
      ]
    },
    {
      "cell_type": "code",
      "execution_count": null,
      "metadata": {
        "id": "im59vNrRmn4R"
      },
      "outputs": [],
      "source": [
        "def get_dev(X,Y, beta):\n",
        "  ...\n",
        "  return(dmse)"
      ]
    },
    {
      "cell_type": "code",
      "execution_count": null,
      "metadata": {},
      "outputs": [],
      "source": []
    },
    {
      "cell_type": "markdown",
      "metadata": {
        "id": "RAeXQboRnaZs"
      },
      "source": [
        "## 4.)Utilice la derivada para optimizar el modelo\n",
        "\n",
        "calcule el vector gradiente y empléelo para el algoritmo del gradiente decente. recuerde:\n",
        "\n",
        "$\\beta_{i+1} = \\beta_{i} - \\alpha*\\frac{dmse(\\beta)}{d\\beta}$"
      ]
    },
    {
      "cell_type": "code",
      "execution_count": null,
      "metadata": {
        "id": "ltnSx6IKnZrd"
      },
      "outputs": [],
      "source": [
        "def GDC (X,Y, beta):\n",
        "  ...\n",
        "  return(beta)"
      ]
    }
  ],
  "metadata": {
    "colab": {
      "provenance": [],
      "toc_visible": true
    },
    "kernelspec": {
      "display_name": "Python 3",
      "name": "python3"
    },
    "language_info": {
      "codemirror_mode": {
        "name": "ipython",
        "version": 3
      },
      "file_extension": ".py",
      "mimetype": "text/x-python",
      "name": "python",
      "nbconvert_exporter": "python",
      "pygments_lexer": "ipython3",
      "version": "3.12.4"
    }
  },
  "nbformat": 4,
  "nbformat_minor": 0
}
